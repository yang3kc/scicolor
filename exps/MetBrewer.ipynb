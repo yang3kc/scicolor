{
 "cells": [
  {
   "cell_type": "code",
   "execution_count": 19,
   "metadata": {},
   "outputs": [],
   "source": [
    "import json"
   ]
  },
  {
   "cell_type": "code",
   "execution_count": 7,
   "metadata": {},
   "outputs": [],
   "source": [
    "MetPalettes = dict(\n",
    "  Archambault = dict(colors = (\"#88a0dc\", \"#381a61\", \"#7c4b73\", \"#ed968c\", \"#ab3329\", \"#e78429\", \"#f9d14a\"), order = (2, 7, 5, 1, 6, 4, 3)),\n",
    "  Cassatt1 = dict(colors = (\"#b1615c\", \"#d88782\", \"#e3aba7\", \"#edd7d9\", \"#c9c9dd\", \"#9d9dc7\", \"#8282aa\", \"#5a5a83\"), order = (3, 6, 1, 8, 4, 5, 2, 7)),\n",
    "  Cassatt2 = dict(colors = (\"#2d223c\", \"#574571\", \"#90719f\", \"#b695bc\", \"#dec5da\", \"#c1d1aa\", \"#7fa074\", \"#466c4b\", \"#2c4b27\", \"#0e2810\"), order = (7, 3, 9, 1, 5, 6, 2, 10, 4, 8)),\n",
    "  Demuth = dict(colors = (\"#591c19\", \"#9b332b\", \"#b64f32\", \"#d39a2d\", \"#f7c267\", \"#b9b9b8\", \"#8b8b99\", \"#5d6174\", \"#41485f\", \"#262d42\"), order = (9, 5, 1, 7, 3, 4, 8, 2, 6, 10)),\n",
    "  Derain = dict(colors = (\"#efc86e\", \"#97c684\", \"#6f9969\", \"#aab5d5\", \"#808fe1\", \"#5c66a8\", \"#454a74\"), order = (4, 2, 5, 7, 1, 3, 6)),\n",
    "  Egypt = dict(colors = (\"#dd5129\", \"#0f7ba2\", \"#43b284\", \"#fab255\"), order = (1, 2, 3, 4)),\n",
    "  Greek = dict(colors = (\"#3c0d03\", \"#8d1c06\", \"#e67424\", \"#ed9b49\", \"#f5c34d\"), order = (2, 3, 5, 1, 4)),\n",
    "  Hiroshige = dict(colors = (\"#e76254\", \"#ef8a47\", \"#f7aa58\", \"#ffd06f\", \"#ffe6b7\", \"#aadce0\", \"#72bcd5\", \"#528fad\", \"#376795\", \"#1e466e\"), order = (6, 2, 9, 3, 7, 5, 1, 10, 4, 8)),\n",
    "  Hokusai2 = dict(colors = (\"#abc9c8\", \"#72aeb6\", \"#4692b0\", \"#2f70a1\", \"#134b73\", \"#0a3351\"), order = (5, 2, 4, 1, 6, 3)),\n",
    "  Hokusai3 = dict(colors = (\"#d8d97a\", \"#95c36e\", \"#74c8c3\", \"#5a97c1\", \"#295384\", \"#0a2e57\"), order = (4, 2, 5, 3, 1, 6)),\n",
    "  Ingres= dict(colors = (\"#041d2c\", \"#06314e\", \"#18527e\", \"#2e77ab\", \"#d1b252\", \"#a97f2f\", \"#7e5522\", \"#472c0b\"), order = (4, 5, 3, 6, 2, 7, 1, 8)),\n",
    "  Isfahan1 = dict(colors = (\"#4e3910\", \"#845d29\", \"#ae8548\", \"#e3c28b\", \"#4fb6ca\", \"#178f92\", \"#175f5d\", \"#054544\"), order = (5, 2, 8, 4, 6, 1, 7, 3)),\n",
    "  Isfahan2 = dict(colors = (\"#d7aca1\", \"#ddc000\", \"#79ad41\", \"#34b6c6\", \"#4063a3\"), order = (4, 2, 3, 5, 1)),\n",
    "  Java = dict(colors = (\"#663171\", \"#cf3a36\", \"#ea7428\", \"#e2998a\", \"#0c7156\"), order = (1, 4, 2, 5, 3)),\n",
    "  Johnson = dict(colors = (\"#a00e00\", \"#d04e00\", \"#f6c200\", \"#0086a8\", \"#132b69\"), order = (3, 1, 4, 2, 5)),\n",
    "  Kandinsky = dict(colors = (\"#3b7c70\", \"#ce9642\", \"#898e9f\", \"#3b3a3e\"), order = (1, 2, 3, 4)),\n",
    "  Morgenstern = dict(colors = (\"#98768e\", \"#b08ba5\", \"#c7a2b6\", \"#dfbbc8\", \"#ffc680\", \"#ffb178\", \"#db8872\", \"#a56457\"), order = (7, 5, 8, 4, 6, 3, 2, 1)),\n",
    "  OKeeffe1 = dict(colors = (\"#6b200c\", \"#973d21\", \"#da6c42\", \"#ee956a\", \"#fbc2a9\", \"#f6f2ee\", \"#bad6f9\", \"#7db0ea\", \"#447fdd\", \"#225bb2\", \"#133e7e\"), order = (8, 6, 1, 4, 10, 3, 11, 5, 2, 7, 9)),\n",
    "  OKeeffe2 = dict(colors = (\"#fbe3c2\", \"#f2c88f\", \"#ecb27d\", \"#e69c6b\", \"#d37750\", \"#b9563f\", \"#92351e\"), order = (7, 1, 6, 4, 2, 5, 3)),\n",
    "  Pillement = dict(colors = (\"#a9845b\", \"#697852\", \"#738e8e\", \"#44636f\", \"#2b4655\", \"#0f252f\"), order = (4, 3, 2, 5, 1, 6)),\n",
    "  Tam = dict(colors = (\"#ffd353\", \"#ffb242\", \"#ef8737\", \"#de4f33\", \"#bb292c\", \"#9f2d55\", \"#62205f\", \"#341648\"), order = (3, 8, 1, 6, 2, 7, 4, 5)),\n",
    "  Troy = dict(colors = (\"#421401\", \"#6c1d0e\", \"#8b3a2b\", \"#c27668\", \"#7ba0b4\", \"#44728c\", \"#235070\", \"#0a2d46\"), order = (2, 7, 4, 5, 1, 8, 3, 6)),\n",
    "  VanGogh3 = dict(colors = (\"#e7e5cc\", \"#c2d6a4\", \"#9cc184\", \"#669d62\", \"#3c7c3d\", \"#1f5b25\", \"#1e3d14\", \"#192813\"), order = (7, 5, 1, 4, 8, 2, 3, 6)),\n",
    "  Veronese = dict(colors = (\"#67322e\", \"#99610a\", \"#c38f16\", \"#6e948c\", \"#2c6b67\", \"#175449\", \"#122c43\"), order = (5, 1, 7, 2, 3, 6, 4)),\n",
    ")"
   ]
  },
  {
   "cell_type": "code",
   "execution_count": 17,
   "metadata": {},
   "outputs": [],
   "source": [
    "ordered_met_palletes = {}\n",
    "for key, value in MetPalettes.items():\n",
    "    ordered_met_palletes[key] = [x for x,_ in sorted(list(zip(value['colors'], value['order'])), key=lambda x: x[1])]"
   ]
  },
  {
   "cell_type": "code",
   "execution_count": 20,
   "metadata": {},
   "outputs": [
    {
     "data": {
      "text/plain": [
       "'{\"Archambault\": [\"#ed968c\", \"#88a0dc\", \"#f9d14a\", \"#e78429\", \"#7c4b73\", \"#ab3329\", \"#381a61\"], \"Cassatt1\": [\"#e3aba7\", \"#8282aa\", \"#b1615c\", \"#c9c9dd\", \"#9d9dc7\", \"#d88782\", \"#5a5a83\", \"#edd7d9\"], \"Cassatt2\": [\"#b695bc\", \"#7fa074\", \"#574571\", \"#2c4b27\", \"#dec5da\", \"#c1d1aa\", \"#2d223c\", \"#0e2810\", \"#90719f\", \"#466c4b\"], \"Demuth\": [\"#b64f32\", \"#5d6174\", \"#f7c267\", \"#b9b9b8\", \"#9b332b\", \"#41485f\", \"#d39a2d\", \"#8b8b99\", \"#591c19\", \"#262d42\"], \"Derain\": [\"#808fe1\", \"#97c684\", \"#5c66a8\", \"#efc86e\", \"#6f9969\", \"#454a74\", \"#aab5d5\"], \"Egypt\": [\"#dd5129\", \"#0f7ba2\", \"#43b284\", \"#fab255\"], \"Greek\": [\"#ed9b49\", \"#3c0d03\", \"#8d1c06\", \"#f5c34d\", \"#e67424\"], \"Hiroshige\": [\"#72bcd5\", \"#ef8a47\", \"#ffd06f\", \"#376795\", \"#aadce0\", \"#e76254\", \"#ffe6b7\", \"#1e466e\", \"#f7aa58\", \"#528fad\"], \"Hokusai2\": [\"#2f70a1\", \"#72aeb6\", \"#0a3351\", \"#4692b0\", \"#abc9c8\", \"#134b73\"], \"Hokusai3\": [\"#295384\", \"#95c36e\", \"#5a97c1\", \"#d8d97a\", \"#74c8c3\", \"#0a2e57\"], \"Ingres\": [\"#7e5522\", \"#d1b252\", \"#18527e\", \"#041d2c\", \"#06314e\", \"#2e77ab\", \"#a97f2f\", \"#472c0b\"], \"Isfahan1\": [\"#178f92\", \"#845d29\", \"#054544\", \"#e3c28b\", \"#4e3910\", \"#4fb6ca\", \"#175f5d\", \"#ae8548\"], \"Isfahan2\": [\"#4063a3\", \"#ddc000\", \"#79ad41\", \"#d7aca1\", \"#34b6c6\"], \"Java\": [\"#663171\", \"#ea7428\", \"#0c7156\", \"#cf3a36\", \"#e2998a\"], \"Johnson\": [\"#d04e00\", \"#0086a8\", \"#a00e00\", \"#f6c200\", \"#132b69\"], \"Kandinsky\": [\"#3b7c70\", \"#ce9642\", \"#898e9f\", \"#3b3a3e\"], \"Morgenstern\": [\"#a56457\", \"#db8872\", \"#ffb178\", \"#dfbbc8\", \"#b08ba5\", \"#ffc680\", \"#98768e\", \"#c7a2b6\"], \"OKeeffe1\": [\"#da6c42\", \"#447fdd\", \"#f6f2ee\", \"#ee956a\", \"#7db0ea\", \"#973d21\", \"#225bb2\", \"#6b200c\", \"#133e7e\", \"#fbc2a9\", \"#bad6f9\"], \"OKeeffe2\": [\"#f2c88f\", \"#d37750\", \"#92351e\", \"#e69c6b\", \"#b9563f\", \"#ecb27d\", \"#fbe3c2\"], \"Pillement\": [\"#2b4655\", \"#738e8e\", \"#697852\", \"#a9845b\", \"#44636f\", \"#0f252f\"], \"Tam\": [\"#ef8737\", \"#bb292c\", \"#ffd353\", \"#62205f\", \"#341648\", \"#de4f33\", \"#9f2d55\", \"#ffb242\"], \"Troy\": [\"#7ba0b4\", \"#421401\", \"#235070\", \"#8b3a2b\", \"#c27668\", \"#0a2d46\", \"#6c1d0e\", \"#44728c\"], \"VanGogh3\": [\"#9cc184\", \"#1f5b25\", \"#1e3d14\", \"#669d62\", \"#c2d6a4\", \"#192813\", \"#e7e5cc\", \"#3c7c3d\"], \"Veronese\": [\"#99610a\", \"#6e948c\", \"#2c6b67\", \"#122c43\", \"#67322e\", \"#175449\", \"#c38f16\"]}'"
      ]
     },
     "execution_count": 20,
     "metadata": {},
     "output_type": "execute_result"
    }
   ],
   "source": [
    "json.dumps(ordered_met_palletes)"
   ]
  },
  {
   "cell_type": "code",
   "execution_count": 21,
   "metadata": {},
   "outputs": [],
   "source": [
    "met_palletes = {}\n",
    "for key, value in MetPalettes.items():\n",
    "    met_palletes[key] = value['colors']"
   ]
  },
  {
   "cell_type": "code",
   "execution_count": 22,
   "metadata": {},
   "outputs": [
    {
     "data": {
      "text/plain": [
       "'{\"Archambault\": [\"#88a0dc\", \"#381a61\", \"#7c4b73\", \"#ed968c\", \"#ab3329\", \"#e78429\", \"#f9d14a\"], \"Cassatt1\": [\"#b1615c\", \"#d88782\", \"#e3aba7\", \"#edd7d9\", \"#c9c9dd\", \"#9d9dc7\", \"#8282aa\", \"#5a5a83\"], \"Cassatt2\": [\"#2d223c\", \"#574571\", \"#90719f\", \"#b695bc\", \"#dec5da\", \"#c1d1aa\", \"#7fa074\", \"#466c4b\", \"#2c4b27\", \"#0e2810\"], \"Demuth\": [\"#591c19\", \"#9b332b\", \"#b64f32\", \"#d39a2d\", \"#f7c267\", \"#b9b9b8\", \"#8b8b99\", \"#5d6174\", \"#41485f\", \"#262d42\"], \"Derain\": [\"#efc86e\", \"#97c684\", \"#6f9969\", \"#aab5d5\", \"#808fe1\", \"#5c66a8\", \"#454a74\"], \"Egypt\": [\"#dd5129\", \"#0f7ba2\", \"#43b284\", \"#fab255\"], \"Greek\": [\"#3c0d03\", \"#8d1c06\", \"#e67424\", \"#ed9b49\", \"#f5c34d\"], \"Hiroshige\": [\"#e76254\", \"#ef8a47\", \"#f7aa58\", \"#ffd06f\", \"#ffe6b7\", \"#aadce0\", \"#72bcd5\", \"#528fad\", \"#376795\", \"#1e466e\"], \"Hokusai2\": [\"#abc9c8\", \"#72aeb6\", \"#4692b0\", \"#2f70a1\", \"#134b73\", \"#0a3351\"], \"Hokusai3\": [\"#d8d97a\", \"#95c36e\", \"#74c8c3\", \"#5a97c1\", \"#295384\", \"#0a2e57\"], \"Ingres\": [\"#041d2c\", \"#06314e\", \"#18527e\", \"#2e77ab\", \"#d1b252\", \"#a97f2f\", \"#7e5522\", \"#472c0b\"], \"Isfahan1\": [\"#4e3910\", \"#845d29\", \"#ae8548\", \"#e3c28b\", \"#4fb6ca\", \"#178f92\", \"#175f5d\", \"#054544\"], \"Isfahan2\": [\"#d7aca1\", \"#ddc000\", \"#79ad41\", \"#34b6c6\", \"#4063a3\"], \"Java\": [\"#663171\", \"#cf3a36\", \"#ea7428\", \"#e2998a\", \"#0c7156\"], \"Johnson\": [\"#a00e00\", \"#d04e00\", \"#f6c200\", \"#0086a8\", \"#132b69\"], \"Kandinsky\": [\"#3b7c70\", \"#ce9642\", \"#898e9f\", \"#3b3a3e\"], \"Morgenstern\": [\"#98768e\", \"#b08ba5\", \"#c7a2b6\", \"#dfbbc8\", \"#ffc680\", \"#ffb178\", \"#db8872\", \"#a56457\"], \"OKeeffe1\": [\"#6b200c\", \"#973d21\", \"#da6c42\", \"#ee956a\", \"#fbc2a9\", \"#f6f2ee\", \"#bad6f9\", \"#7db0ea\", \"#447fdd\", \"#225bb2\", \"#133e7e\"], \"OKeeffe2\": [\"#fbe3c2\", \"#f2c88f\", \"#ecb27d\", \"#e69c6b\", \"#d37750\", \"#b9563f\", \"#92351e\"], \"Pillement\": [\"#a9845b\", \"#697852\", \"#738e8e\", \"#44636f\", \"#2b4655\", \"#0f252f\"], \"Tam\": [\"#ffd353\", \"#ffb242\", \"#ef8737\", \"#de4f33\", \"#bb292c\", \"#9f2d55\", \"#62205f\", \"#341648\"], \"Troy\": [\"#421401\", \"#6c1d0e\", \"#8b3a2b\", \"#c27668\", \"#7ba0b4\", \"#44728c\", \"#235070\", \"#0a2d46\"], \"VanGogh3\": [\"#e7e5cc\", \"#c2d6a4\", \"#9cc184\", \"#669d62\", \"#3c7c3d\", \"#1f5b25\", \"#1e3d14\", \"#192813\"], \"Veronese\": [\"#67322e\", \"#99610a\", \"#c38f16\", \"#6e948c\", \"#2c6b67\", \"#175449\", \"#122c43\"]}'"
      ]
     },
     "execution_count": 22,
     "metadata": {},
     "output_type": "execute_result"
    }
   ],
   "source": [
    "json.dumps(met_palletes)"
   ]
  },
  {
   "cell_type": "code",
   "execution_count": 24,
   "metadata": {},
   "outputs": [],
   "source": [
    "met_palletes_info = []\n",
    "for key in met_palletes:\n",
    "    met_palletes_info.append([\n",
    "        key, 'metbrewer', 'categorical', 'categorical', False, True\n",
    "    ])"
   ]
  },
  {
   "cell_type": "code",
   "execution_count": 26,
   "metadata": {},
   "outputs": [
    {
     "data": {
      "text/plain": [
       "'[[\"Archambault\", \"metbrewer\", \"categorical\", \"categorical\", false, true], [\"Cassatt1\", \"metbrewer\", \"categorical\", \"categorical\", false, true], [\"Cassatt2\", \"metbrewer\", \"categorical\", \"categorical\", false, true], [\"Demuth\", \"metbrewer\", \"categorical\", \"categorical\", false, true], [\"Derain\", \"metbrewer\", \"categorical\", \"categorical\", false, true], [\"Egypt\", \"metbrewer\", \"categorical\", \"categorical\", false, true], [\"Greek\", \"metbrewer\", \"categorical\", \"categorical\", false, true], [\"Hiroshige\", \"metbrewer\", \"categorical\", \"categorical\", false, true], [\"Hokusai2\", \"metbrewer\", \"categorical\", \"categorical\", false, true], [\"Hokusai3\", \"metbrewer\", \"categorical\", \"categorical\", false, true], [\"Ingres\", \"metbrewer\", \"categorical\", \"categorical\", false, true], [\"Isfahan1\", \"metbrewer\", \"categorical\", \"categorical\", false, true], [\"Isfahan2\", \"metbrewer\", \"categorical\", \"categorical\", false, true], [\"Java\", \"metbrewer\", \"categorical\", \"categorical\", false, true], [\"Johnson\", \"metbrewer\", \"categorical\", \"categorical\", false, true], [\"Kandinsky\", \"metbrewer\", \"categorical\", \"categorical\", false, true], [\"Morgenstern\", \"metbrewer\", \"categorical\", \"categorical\", false, true], [\"OKeeffe1\", \"metbrewer\", \"categorical\", \"categorical\", false, true], [\"OKeeffe2\", \"metbrewer\", \"categorical\", \"categorical\", false, true], [\"Pillement\", \"metbrewer\", \"categorical\", \"categorical\", false, true], [\"Tam\", \"metbrewer\", \"categorical\", \"categorical\", false, true], [\"Troy\", \"metbrewer\", \"categorical\", \"categorical\", false, true], [\"VanGogh3\", \"metbrewer\", \"categorical\", \"categorical\", false, true], [\"Veronese\", \"metbrewer\", \"categorical\", \"categorical\", false, true]]'"
      ]
     },
     "execution_count": 26,
     "metadata": {},
     "output_type": "execute_result"
    }
   ],
   "source": [
    "json.dumps(met_palletes_info)"
   ]
  },
  {
   "cell_type": "code",
   "execution_count": 13,
   "metadata": {},
   "outputs": [
    {
     "data": {
      "text/plain": [
       "[('#ed968c', 1),\n",
       " ('#88a0dc', 2),\n",
       " ('#f9d14a', 3),\n",
       " ('#e78429', 4),\n",
       " ('#7c4b73', 5),\n",
       " ('#ab3329', 6),\n",
       " ('#381a61', 7)]"
      ]
     },
     "execution_count": 13,
     "metadata": {},
     "output_type": "execute_result"
    }
   ],
   "source": [
    "sorted(list(zip(MetPalettes['Archambault']['colors'], MetPalettes['Archambault']['order'])), key=lambda x: x[1])"
   ]
  },
  {
   "cell_type": "code",
   "execution_count": 4,
   "metadata": {
    "scrolled": false
   },
   "outputs": [
    {
     "name": "stdout",
     "output_type": "stream",
     "text": [
      "Cassatt1\n",
      "Cassatt2\n",
      "Derain\n",
      "Egypt\n",
      "Greek\n",
      "Hiroshige\n",
      "Hokusai2\n",
      "Hokusai3\n",
      "Ingres\n",
      "Isfahan1\n",
      "Isfahan2\n",
      "Morgenstern\n",
      "OKeeffe1\n",
      "OKeeffe2\n",
      "Pillement\n",
      "Troy\n",
      "VanGogh3\n",
      "Veronese\n"
     ]
    }
   ],
   "source": [
    "for key, value in MET_PALETTES.items():\n",
    "    if value['colorblind']:\n",
    "        print(key)"
   ]
  },
  {
   "cell_type": "code",
   "execution_count": null,
   "metadata": {},
   "outputs": [],
   "source": []
  }
 ],
 "metadata": {
  "kernelspec": {
   "display_name": "Python 3",
   "language": "python",
   "name": "python3"
  },
  "language_info": {
   "codemirror_mode": {
    "name": "ipython",
    "version": 3
   },
   "file_extension": ".py",
   "mimetype": "text/x-python",
   "name": "python",
   "nbconvert_exporter": "python",
   "pygments_lexer": "ipython3",
   "version": "3.8.5"
  }
 },
 "nbformat": 4,
 "nbformat_minor": 4
}
